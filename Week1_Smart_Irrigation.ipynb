{
 "cells": [
  {
   "cell_type": "markdown",
   "id": "ef0ac0b4",
   "metadata": {},
   "source": [
    "# Week 1 - Smart Irrigation Project\n",
    "This notebook analyzes sensor data to give irrigation advice."
   ]
  },
  {
   "cell_type": "code",
   "execution_count": null,
   "id": "c304a099",
   "metadata": {},
   "outputs": [],
   "source": [
    "import pandas as pd\n",
    "\n",
    "# Load the dataset\n",
    "df = pd.read_csv(\"week1.csv\")\n",
    "df.head()"
   ]
  },
  {
   "cell_type": "code",
   "execution_count": null,
   "id": "029c66df",
   "metadata": {},
   "outputs": [],
   "source": [
    "# Drop the unnamed index column if present\n",
    "if 'Unnamed: 0' in df.columns:\n",
    "    df.drop(columns=['Unnamed: 0'], inplace=True)\n",
    "\n",
    "# Summary of data\n",
    "df.describe()"
   ]
  },
  {
   "cell_type": "code",
   "execution_count": null,
   "id": "38937653",
   "metadata": {},
   "outputs": [],
   "source": [
    "# Check correlation between sensors and parcels\n",
    "correlation = df.corr()\n",
    "correlation['parcel_0'].sort_values(ascending=False)[:10]"
   ]
  },
  {
   "cell_type": "code",
   "execution_count": null,
   "id": "9a429c86",
   "metadata": {},
   "outputs": [],
   "source": [
    "# Apply a simple rule-based logic: if average sensor reading < threshold, irrigation is needed\n",
    "df['sensor_avg'] = df[[col for col in df.columns if 'sensor' in col]].mean(axis=1)\n",
    "\n",
    "def irrigation_advice(avg):\n",
    "    return \"Irrigation Needed\" if avg < 4.0 else \"No Irrigation\"\n",
    "\n",
    "df['Advice'] = df['sensor_avg'].apply(irrigation_advice)\n",
    "df[['sensor_avg', 'Advice']].head()\n",
    "# Step 1: Import required libraries\n",
    "import pandas as pd\n",
    "from sklearn.model_selection import train_test_split\n",
    "from sklearn.ensemble import RandomForestClassifier\n",
    "from sklearn.metrics import accuracy_score\n",
    "import joblib\n",
    "\n",
    "# Step 2: Load dataset (make sure 'Smart_Irrigation.csv' is in same folder)\n",
    "df = pd.read_csv('Smart_Irrigation.csv')\n",
    "\n",
    "# Step 3: Preprocess data\n",
    "# Remove nulls\n",
    "df.dropna(inplace=True)\n",
    "\n",
    "# Convert categorical column 'crop' to numerical (if any)\n",
    "if 'crop' in df.columns:\n",
    "    df['crop'] = df['crop'].astype('category').cat.codes\n",
    "\n",
    "# Step 4: Feature and Target selection\n",
    "X = df.drop('label', axis=1)   # Features\n",
    "y = df['label']                # Target\n",
    "\n",
    "# Step 5: Split data into train and test\n",
    "X_train, X_test, y_train, y_test = train_test_split(X, y, test_size=0.2, random_state=42)\n",
    "\n",
    "# Step 6: Train model\n",
    "model = RandomForestClassifier()\n",
    "model.fit(X_train, y_train)\n",
    "\n",
    "# Step 7: Evaluate\n",
    "y_pred = model.predict(X_test)\n",
    "accuracy = accuracy_score(y_test, y_pred)\n",
    "print(\"Model Accuracy:\", accuracy)\n",
    "\n",
    "# Step 8: Save the model\n",
    "joblib.dump(model, 'irrigation_model.pkl')\n",
    "print(\"Model saved as irrigation_model.pkl\")"
   ]
  },
  {
   "cell_type": "markdown",
   "id": "f4105226",
   "metadata": {},
   "source": [
    "### ✅ This notebook performs basic analysis and gives rule-based irrigation advice. Ready for submission!"
   ]
  }
 ],
 "metadata": {
  "kernelspec": {
   "display_name": "Python 3",
   "name": "python3"
  }
 },
 "nbformat": 4,
 "nbformat_minor": 5
}
