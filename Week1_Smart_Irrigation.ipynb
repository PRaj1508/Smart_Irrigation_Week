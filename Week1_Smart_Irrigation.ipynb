{
 "cells": [
  {
   "cell_type": "markdown",
   "id": "ef0ac0b4",
   "metadata": {},
   "source": [
    "# Week 1 - Smart Irrigation Project\n",
    "This notebook analyzes sensor data to give irrigation advice."
   ]
  },
  {
   "cell_type": "code",
   "execution_count": null,
   "id": "c304a099",
   "metadata": {},
   "outputs": [],
   "source": [
    "import pandas as pd\n",
    "\n",
    "# Load the dataset\n",
    "df = pd.read_csv(\"week1.csv\")\n",
    "df.head()"
   ]
  },
  {
   "cell_type": "code",
   "execution_count": null,
   "id": "029c66df",
   "metadata": {},
   "outputs": [],
   "source": [
    "# Drop the unnamed index column if present\n",
    "if 'Unnamed: 0' in df.columns:\n",
    "    df.drop(columns=['Unnamed: 0'], inplace=True)\n",
    "\n",
    "# Summary of data\n",
    "df.describe()"
   ]
  },
  {
   "cell_type": "code",
   "execution_count": null,
   "id": "38937653",
   "metadata": {},
   "outputs": [],
   "source": [
    "# Check correlation between sensors and parcels\n",
    "correlation = df.corr()\n",
    "correlation['parcel_0'].sort_values(ascending=False)[:10]"
   ]
  },
  {
   "cell_type": "code",
   "execution_count": null,
   "id": "9a429c86",
   "metadata": {},
   "outputs": [],
   "source": [
    "# Apply a simple rule-based logic: if average sensor reading < threshold, irrigation is needed\n",
    "df['sensor_avg'] = df[[col for col in df.columns if 'sensor' in col]].mean(axis=1)\n",
    "\n",
    "def irrigation_advice(avg):\n",
    "    return \"Irrigation Needed\" if avg < 4.0 else \"No Irrigation\"\n",
    "\n",
    "df['Advice'] = df['sensor_avg'].apply(irrigation_advice)\n",
    "df[['sensor_avg', 'Advice']].head()"
   ]
  },
  {
   "cell_type": "markdown",
   "id": "f4105226",
   "metadata": {},
   "source": [
    "### ✅ This notebook performs basic analysis and gives rule-based irrigation advice. Ready for submission!"
   ]
  }
 ],
 "metadata": {
  "kernelspec": {
   "display_name": "Python 3",
   "name": "python3"
  }
 },
 "nbformat": 4,
 "nbformat_minor": 5
}
