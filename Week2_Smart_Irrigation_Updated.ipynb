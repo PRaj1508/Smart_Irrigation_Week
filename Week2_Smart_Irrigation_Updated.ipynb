# Week 2 Notebook Placeholder
