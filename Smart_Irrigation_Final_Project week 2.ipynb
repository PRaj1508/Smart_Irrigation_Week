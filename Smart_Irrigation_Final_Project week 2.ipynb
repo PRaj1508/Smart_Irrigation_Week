{
 "cells": [
  {
   "cell_type": "markdown",
   "id": "07217937",
   "metadata": {},
   "source": [
    "# Week 1 + Week 2 - Smart Irrigation Project\n",
    "Complete project notebook for AICTE Internship Cycle 2."
   ]
  },
  {
   "cell_type": "markdown",
   "id": "ccb983ea",
   "metadata": {},
   "source": [
    "## Week 1: Data Analysis\n",
    "We begin by importing the dataset and understanding its structure."
   ]
  },
  {
   "cell_type": "code",
   "execution_count": null,
   "id": "e20a4e3a",
   "metadata": {},
   "outputs": [],
   "source": [
    "import pandas as pd\n",
    "# Simulated data (in actual project, use irrigation_machine.csv)\n",
    "data = {\n",
    "    'sensor_0': [20, 30, 25, 35, 40, 22, 28, 32],\n",
    "    'sensor_1': [80, 65, 70, 75, 90, 85, 60, 55],\n",
    "    'sensor_2': [300, 280, 310, 295, 305, 290, 270, 285],\n",
    "    'sensor_3': [50, 45, 55, 60, 58, 53, 49, 47],\n",
    "    'parcel_0': [1, 0, 1, 0, 0, 1, 1, 0],\n",
    "    'parcel_1': [0, 1, 0, 1, 0, 0, 0, 1],\n",
    "    'parcel_2': [0, 0, 0, 0, 1, 0, 0, 0]\n",
    "}\n",
    "df = pd.DataFrame(data)\n",
    "df.head()"
   ]
  },
  {
   "cell_type": "markdown",
   "id": "9af62ce1",
   "metadata": {},
   "source": [
    "## Week 2: ML Model Training\n",
    "We train a Random Forest classifier on sensor data to predict irrigation parcels."
   ]
  },
  {
   "cell_type": "code",
   "execution_count": null,
   "id": "c039a060",
   "metadata": {},
   "outputs": [],
   "source": [
    "# Feature and target extraction\n",
    "X = df[['sensor_0', 'sensor_1', 'sensor_2', 'sensor_3']]\n",
    "y = df[['parcel_0', 'parcel_1', 'parcel_2']].idxmax(axis=1)\n",
    "\n",
    "# Split data\n",
    "from sklearn.model_selection import train_test_split\n",
    "X_train, X_test, y_train, y_test = train_test_split(X, y, test_size=0.25, random_state=0)\n",
    "\n",
    "# Model training\n",
    "from sklearn.ensemble import RandomForestClassifier\n",
    "model = RandomForestClassifier(random_state=0)\n",
    "model.fit(X_train, y_train)\n",
    "y_pred = model.predict(X_test)\n",
    "\n",
    "# Accuracy check\n",
    "from sklearn.metrics import accuracy_score\n",
    "accuracy = accuracy_score(y_test, y_pred)\n",
    "print(f\"Model Accuracy: {accuracy * 100:.2f}%\")"
   ]
  },
  {
   "cell_type": "code",
   "execution_count": null,
   "id": "b650c6e9",
   "metadata": {},
   "outputs": [],
   "source": [
    "# Save the trained model as a pickle file\n",
    "import pickle\n",
    "with open('Smart_Irrigation_Model.pkl', 'wb') as f:\n",
    "    pickle.dump(model, f)\n",
    "print(\"Model saved successfully as Smart_Irrigation_Model.pkl\")"
   ]
  }
 ],
 "metadata": {},
 "nbformat": 4,
 "nbformat_minor": 5
}
